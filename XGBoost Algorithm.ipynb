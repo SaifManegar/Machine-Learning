{
 "cells": [
  {
   "cell_type": "code",
   "execution_count": 1,
   "id": "3815e6d6",
   "metadata": {
    "papermill": {
     "duration": 13.378866,
     "end_time": "2022-11-18T15:19:59.815202",
     "exception": false,
     "start_time": "2022-11-18T15:19:46.436336",
     "status": "completed"
    },
    "scrolled": true,
    "tags": []
   },
   "outputs": [
    {
     "name": "stdout",
     "output_type": "stream",
     "text": [
      "Requirement already satisfied: xgboost in c:\\users\\huawei\\appdata\\local\\packages\\pythonsoftwarefoundation.python.3.11_qbz5n2kfra8p0\\localcache\\local-packages\\python311\\site-packages (2.0.3)\n",
      "Requirement already satisfied: numpy in c:\\users\\huawei\\appdata\\local\\packages\\pythonsoftwarefoundation.python.3.11_qbz5n2kfra8p0\\localcache\\local-packages\\python311\\site-packages (from xgboost) (1.26.0)\n",
      "Requirement already satisfied: scipy in c:\\users\\huawei\\appdata\\local\\packages\\pythonsoftwarefoundation.python.3.11_qbz5n2kfra8p0\\localcache\\local-packages\\python311\\site-packages (from xgboost) (1.11.3)\n"
     ]
    }
   ],
   "source": [
    "!pip install xgboost"
   ]
  },
  {
   "cell_type": "code",
   "execution_count": 2,
   "id": "5e26ae37",
   "metadata": {
    "papermill": {
     "duration": 1.43041,
     "end_time": "2022-11-18T15:20:01.259829",
     "exception": false,
     "start_time": "2022-11-18T15:19:59.829419",
     "status": "completed"
    },
    "tags": []
   },
   "outputs": [],
   "source": [
    "%matplotlib inline\n",
    "import numpy as np\n",
    "import pandas as pd\n",
    "import matplotlib.pyplot as plt\n",
    "import seaborn as sns\n",
    "import sklearn\n",
    "\n",
    "import xgboost as xgb\n",
    "\n",
    "from sklearn.model_selection import train_test_split\n",
    "from sklearn.model_selection import cross_val_score, KFold\n",
    "from sklearn.preprocessing import StandardScaler\n",
    "from sklearn.metrics import mean_squared_error\n",
    "from sklearn.metrics import mean_absolute_error\n",
    "from sklearn.metrics import r2_score\n",
    "from sklearn import metrics"
   ]
  },
  {
   "cell_type": "code",
   "execution_count": 3,
   "id": "f2f1ba24",
   "metadata": {
    "papermill": {
     "duration": 0.038421,
     "end_time": "2022-11-18T15:20:01.363656",
     "exception": false,
     "start_time": "2022-11-18T15:20:01.325235",
     "status": "completed"
    },
    "tags": []
   },
   "outputs": [],
   "source": [
    "df = pd.read_csv('co2.csv')"
   ]
  },
  {
   "cell_type": "code",
   "execution_count": 4,
   "id": "ac893d17",
   "metadata": {
    "papermill": {
     "duration": 0.101842,
     "end_time": "2022-11-18T15:20:01.478685",
     "exception": false,
     "start_time": "2022-11-18T15:20:01.376843",
     "status": "completed"
    },
    "tags": []
   },
   "outputs": [
    {
     "data": {
      "text/html": [
       "<style type=\"text/css\">\n",
       "#T_ccda8_row0_col0, #T_ccda8_row0_col1, #T_ccda8_row1_col0, #T_ccda8_row1_col1, #T_ccda8_row2_col0, #T_ccda8_row2_col1, #T_ccda8_row3_col0, #T_ccda8_row3_col1, #T_ccda8_row4_col0, #T_ccda8_row4_col1 {\n",
       "  background-color: #FDD667;\n",
       "  color: black;\n",
       "  border: 1.5px solid black;\n",
       "}\n",
       "</style>\n",
       "<table id=\"T_ccda8\">\n",
       "  <thead>\n",
       "    <tr>\n",
       "      <th class=\"blank level0\" >&nbsp;</th>\n",
       "      <th id=\"T_ccda8_level0_col0\" class=\"col_heading level0 col0\" >YYYYMM</th>\n",
       "      <th id=\"T_ccda8_level0_col1\" class=\"col_heading level0 col1\" >Value</th>\n",
       "    </tr>\n",
       "  </thead>\n",
       "  <tbody>\n",
       "    <tr>\n",
       "      <th id=\"T_ccda8_level0_row0\" class=\"row_heading level0 row0\" >0</th>\n",
       "      <td id=\"T_ccda8_row0_col0\" class=\"data row0 col0\" >197301</td>\n",
       "      <td id=\"T_ccda8_row0_col1\" class=\"data row0 col1\" >72.076000</td>\n",
       "    </tr>\n",
       "    <tr>\n",
       "      <th id=\"T_ccda8_level0_row1\" class=\"row_heading level0 row1\" >1</th>\n",
       "      <td id=\"T_ccda8_row1_col0\" class=\"data row1 col0\" >197302</td>\n",
       "      <td id=\"T_ccda8_row1_col1\" class=\"data row1 col1\" >64.442000</td>\n",
       "    </tr>\n",
       "    <tr>\n",
       "      <th id=\"T_ccda8_level0_row2\" class=\"row_heading level0 row2\" >2</th>\n",
       "      <td id=\"T_ccda8_row2_col0\" class=\"data row2 col0\" >197303</td>\n",
       "      <td id=\"T_ccda8_row2_col1\" class=\"data row2 col1\" >64.084000</td>\n",
       "    </tr>\n",
       "    <tr>\n",
       "      <th id=\"T_ccda8_level0_row3\" class=\"row_heading level0 row3\" >3</th>\n",
       "      <td id=\"T_ccda8_row3_col0\" class=\"data row3 col0\" >197304</td>\n",
       "      <td id=\"T_ccda8_row3_col1\" class=\"data row3 col1\" >60.842000</td>\n",
       "    </tr>\n",
       "    <tr>\n",
       "      <th id=\"T_ccda8_level0_row4\" class=\"row_heading level0 row4\" >4</th>\n",
       "      <td id=\"T_ccda8_row4_col0\" class=\"data row4 col0\" >197305</td>\n",
       "      <td id=\"T_ccda8_row4_col1\" class=\"data row4 col1\" >61.798000</td>\n",
       "    </tr>\n",
       "  </tbody>\n",
       "</table>\n"
      ],
      "text/plain": [
       "<pandas.io.formats.style.Styler at 0x193012da810>"
      ]
     },
     "execution_count": 4,
     "metadata": {},
     "output_type": "execute_result"
    }
   ],
   "source": [
    "df.head().style.set_properties(**{\"background-color\": \"#FDD667\",\"color\":\"black\",\"border\": \"1.5px solid black\"})"
   ]
  },
  {
   "cell_type": "code",
   "execution_count": 5,
   "id": "d3b4afa9",
   "metadata": {
    "papermill": {
     "duration": 0.023558,
     "end_time": "2022-11-18T15:20:01.542131",
     "exception": false,
     "start_time": "2022-11-18T15:20:01.518573",
     "status": "completed"
    },
    "tags": []
   },
   "outputs": [
    {
     "data": {
      "text/plain": [
       "(523, 2)"
      ]
     },
     "execution_count": 5,
     "metadata": {},
     "output_type": "execute_result"
    }
   ],
   "source": [
    "df.shape"
   ]
  },
  {
   "cell_type": "code",
   "execution_count": 6,
   "id": "f0162805",
   "metadata": {
    "papermill": {
     "duration": 0.038274,
     "end_time": "2022-11-18T15:20:01.593792",
     "exception": false,
     "start_time": "2022-11-18T15:20:01.555518",
     "status": "completed"
    },
    "tags": []
   },
   "outputs": [
    {
     "data": {
      "text/html": [
       "<div>\n",
       "<style scoped>\n",
       "    .dataframe tbody tr th:only-of-type {\n",
       "        vertical-align: middle;\n",
       "    }\n",
       "\n",
       "    .dataframe tbody tr th {\n",
       "        vertical-align: top;\n",
       "    }\n",
       "\n",
       "    .dataframe thead th {\n",
       "        text-align: right;\n",
       "    }\n",
       "</style>\n",
       "<table border=\"1\" class=\"dataframe\">\n",
       "  <thead>\n",
       "    <tr style=\"text-align: right;\">\n",
       "      <th></th>\n",
       "      <th>YYYYMM</th>\n",
       "      <th>Value</th>\n",
       "    </tr>\n",
       "  </thead>\n",
       "  <tbody>\n",
       "  </tbody>\n",
       "</table>\n",
       "</div>"
      ],
      "text/plain": [
       "Empty DataFrame\n",
       "Columns: [YYYYMM, Value]\n",
       "Index: []"
      ]
     },
     "execution_count": 6,
     "metadata": {},
     "output_type": "execute_result"
    }
   ],
   "source": [
    "df[df.duplicated(subset='YYYYMM')]"
   ]
  },
  {
   "cell_type": "code",
   "execution_count": 7,
   "id": "73cc18f5",
   "metadata": {
    "papermill": {
     "duration": 0.036967,
     "end_time": "2022-11-18T15:20:01.645368",
     "exception": false,
     "start_time": "2022-11-18T15:20:01.608401",
     "status": "completed"
    },
    "tags": []
   },
   "outputs": [
    {
     "name": "stdout",
     "output_type": "stream",
     "text": [
      "<class 'pandas.core.frame.DataFrame'>\n",
      "RangeIndex: 523 entries, 0 to 522\n",
      "Data columns (total 2 columns):\n",
      " #   Column  Non-Null Count  Dtype  \n",
      "---  ------  --------------  -----  \n",
      " 0   YYYYMM  523 non-null    int64  \n",
      " 1   Value   523 non-null    float64\n",
      "dtypes: float64(1), int64(1)\n",
      "memory usage: 8.3 KB\n"
     ]
    }
   ],
   "source": [
    "df.info()"
   ]
  },
  {
   "cell_type": "code",
   "execution_count": 8,
   "id": "cdb4c8cc-efe6-468f-8e42-98c9c461d010",
   "metadata": {},
   "outputs": [
    {
     "data": {
      "text/html": [
       "<div>\n",
       "<style scoped>\n",
       "    .dataframe tbody tr th:only-of-type {\n",
       "        vertical-align: middle;\n",
       "    }\n",
       "\n",
       "    .dataframe tbody tr th {\n",
       "        vertical-align: top;\n",
       "    }\n",
       "\n",
       "    .dataframe thead th {\n",
       "        text-align: right;\n",
       "    }\n",
       "</style>\n",
       "<table border=\"1\" class=\"dataframe\">\n",
       "  <thead>\n",
       "    <tr style=\"text-align: right;\">\n",
       "      <th></th>\n",
       "      <th>YYYYMM</th>\n",
       "      <th>Value</th>\n",
       "    </tr>\n",
       "  </thead>\n",
       "  <tbody>\n",
       "    <tr>\n",
       "      <th>count</th>\n",
       "      <td>523.000000</td>\n",
       "      <td>523.000000</td>\n",
       "    </tr>\n",
       "    <tr>\n",
       "      <th>mean</th>\n",
       "      <td>199435.912046</td>\n",
       "      <td>125.778954</td>\n",
       "    </tr>\n",
       "    <tr>\n",
       "      <th>std</th>\n",
       "      <td>1259.444618</td>\n",
       "      <td>31.903910</td>\n",
       "    </tr>\n",
       "    <tr>\n",
       "      <th>min</th>\n",
       "      <td>197301.000000</td>\n",
       "      <td>60.544000</td>\n",
       "    </tr>\n",
       "    <tr>\n",
       "      <th>25%</th>\n",
       "      <td>198311.500000</td>\n",
       "      <td>102.015000</td>\n",
       "    </tr>\n",
       "    <tr>\n",
       "      <th>50%</th>\n",
       "      <td>199410.000000</td>\n",
       "      <td>129.054000</td>\n",
       "    </tr>\n",
       "    <tr>\n",
       "      <th>75%</th>\n",
       "      <td>200508.500000</td>\n",
       "      <td>151.502500</td>\n",
       "    </tr>\n",
       "    <tr>\n",
       "      <th>max</th>\n",
       "      <td>201607.000000</td>\n",
       "      <td>188.407000</td>\n",
       "    </tr>\n",
       "  </tbody>\n",
       "</table>\n",
       "</div>"
      ],
      "text/plain": [
       "              YYYYMM       Value\n",
       "count     523.000000  523.000000\n",
       "mean   199435.912046  125.778954\n",
       "std      1259.444618   31.903910\n",
       "min    197301.000000   60.544000\n",
       "25%    198311.500000  102.015000\n",
       "50%    199410.000000  129.054000\n",
       "75%    200508.500000  151.502500\n",
       "max    201607.000000  188.407000"
      ]
     },
     "execution_count": 8,
     "metadata": {},
     "output_type": "execute_result"
    }
   ],
   "source": [
    "df.describe()"
   ]
  },
  {
   "cell_type": "markdown",
   "id": "6be3cc90",
   "metadata": {
    "papermill": {
     "duration": 0.013128,
     "end_time": "2022-11-18T15:20:01.672069",
     "exception": false,
     "start_time": "2022-11-18T15:20:01.658941",
     "status": "completed"
    },
    "tags": []
   },
   "source": [
    "* We use Pandas to import the CSV file. We notice that the dataframe contains a column 'YYYYMM' that needs to be separated into 'Year' and 'Month' column. In this step, we will also remove any null values that we may have in the dataframe. Finally, we will retrieve the last five elements of the dataframe to check if our code worked. And it did!"
   ]
  },
  {
   "cell_type": "code",
   "execution_count": 9,
   "id": "1f74bfc3",
   "metadata": {
    "papermill": {
     "duration": 0.028585,
     "end_time": "2022-11-18T15:20:01.714012",
     "exception": false,
     "start_time": "2022-11-18T15:20:01.685427",
     "status": "completed"
    },
    "tags": []
   },
   "outputs": [],
   "source": [
    "df['Month'] = df.YYYYMM.astype(str).str[4:6].astype(int)\n",
    "df['Year'] = df.YYYYMM.astype(str).str[0:4].astype(int)"
   ]
  },
  {
   "cell_type": "code",
   "execution_count": 10,
   "id": "93fe4117",
   "metadata": {
    "papermill": {
     "duration": 0.034731,
     "end_time": "2022-11-18T15:20:01.762735",
     "exception": false,
     "start_time": "2022-11-18T15:20:01.728004",
     "status": "completed"
    },
    "tags": []
   },
   "outputs": [
    {
     "data": {
      "text/html": [
       "<div>\n",
       "<style scoped>\n",
       "    .dataframe tbody tr th:only-of-type {\n",
       "        vertical-align: middle;\n",
       "    }\n",
       "\n",
       "    .dataframe tbody tr th {\n",
       "        vertical-align: top;\n",
       "    }\n",
       "\n",
       "    .dataframe thead th {\n",
       "        text-align: right;\n",
       "    }\n",
       "</style>\n",
       "<table border=\"1\" class=\"dataframe\">\n",
       "  <thead>\n",
       "    <tr style=\"text-align: right;\">\n",
       "      <th></th>\n",
       "      <th>YYYYMM</th>\n",
       "      <th>Value</th>\n",
       "      <th>Month</th>\n",
       "      <th>Year</th>\n",
       "    </tr>\n",
       "  </thead>\n",
       "  <tbody>\n",
       "    <tr>\n",
       "      <th>0</th>\n",
       "      <td>197301</td>\n",
       "      <td>72.076</td>\n",
       "      <td>1</td>\n",
       "      <td>1973</td>\n",
       "    </tr>\n",
       "    <tr>\n",
       "      <th>1</th>\n",
       "      <td>197302</td>\n",
       "      <td>64.442</td>\n",
       "      <td>2</td>\n",
       "      <td>1973</td>\n",
       "    </tr>\n",
       "    <tr>\n",
       "      <th>2</th>\n",
       "      <td>197303</td>\n",
       "      <td>64.084</td>\n",
       "      <td>3</td>\n",
       "      <td>1973</td>\n",
       "    </tr>\n",
       "    <tr>\n",
       "      <th>3</th>\n",
       "      <td>197304</td>\n",
       "      <td>60.842</td>\n",
       "      <td>4</td>\n",
       "      <td>1973</td>\n",
       "    </tr>\n",
       "    <tr>\n",
       "      <th>4</th>\n",
       "      <td>197305</td>\n",
       "      <td>61.798</td>\n",
       "      <td>5</td>\n",
       "      <td>1973</td>\n",
       "    </tr>\n",
       "  </tbody>\n",
       "</table>\n",
       "</div>"
      ],
      "text/plain": [
       "   YYYYMM   Value  Month  Year\n",
       "0  197301  72.076      1  1973\n",
       "1  197302  64.442      2  1973\n",
       "2  197303  64.084      3  1973\n",
       "3  197304  60.842      4  1973\n",
       "4  197305  61.798      5  1973"
      ]
     },
     "execution_count": 10,
     "metadata": {},
     "output_type": "execute_result"
    }
   ],
   "source": [
    "df.head()"
   ]
  },
  {
   "cell_type": "code",
   "execution_count": 11,
   "id": "56f23e0e",
   "metadata": {
    "papermill": {
     "duration": 0.025191,
     "end_time": "2022-11-18T15:20:01.802520",
     "exception": false,
     "start_time": "2022-11-18T15:20:01.777329",
     "status": "completed"
    },
    "tags": []
   },
   "outputs": [
    {
     "data": {
      "text/plain": [
       "(523, 4)"
      ]
     },
     "execution_count": 11,
     "metadata": {},
     "output_type": "execute_result"
    }
   ],
   "source": [
    "df.shape"
   ]
  },
  {
   "cell_type": "code",
   "execution_count": 12,
   "id": "2a3459f5",
   "metadata": {
    "papermill": {
     "duration": 0.025669,
     "end_time": "2022-11-18T15:20:01.842963",
     "exception": false,
     "start_time": "2022-11-18T15:20:01.817294",
     "status": "completed"
    },
    "tags": []
   },
   "outputs": [],
   "source": [
    "df.drop(['YYYYMM'], axis=1, inplace=True)"
   ]
  },
  {
   "cell_type": "code",
   "execution_count": 14,
   "id": "a67b24ed",
   "metadata": {
    "papermill": {
     "duration": 0.033651,
     "end_time": "2022-11-18T15:20:01.890611",
     "exception": false,
     "start_time": "2022-11-18T15:20:01.856960",
     "status": "completed"
    },
    "tags": []
   },
   "outputs": [
    {
     "data": {
      "text/html": [
       "<style type=\"text/css\">\n",
       "#T_1b122_row0_col0, #T_1b122_row0_col1, #T_1b122_row0_col2, #T_1b122_row1_col0, #T_1b122_row1_col1, #T_1b122_row1_col2, #T_1b122_row2_col0, #T_1b122_row2_col1, #T_1b122_row2_col2, #T_1b122_row3_col0, #T_1b122_row3_col1, #T_1b122_row3_col2, #T_1b122_row4_col0, #T_1b122_row4_col1, #T_1b122_row4_col2 {\n",
       "  background-color: #FDD667;\n",
       "  color: black;\n",
       "  border: 1.5px solid black;\n",
       "}\n",
       "</style>\n",
       "<table id=\"T_1b122\">\n",
       "  <thead>\n",
       "    <tr>\n",
       "      <th class=\"blank level0\" >&nbsp;</th>\n",
       "      <th id=\"T_1b122_level0_col0\" class=\"col_heading level0 col0\" >Value</th>\n",
       "      <th id=\"T_1b122_level0_col1\" class=\"col_heading level0 col1\" >Month</th>\n",
       "      <th id=\"T_1b122_level0_col2\" class=\"col_heading level0 col2\" >Year</th>\n",
       "    </tr>\n",
       "  </thead>\n",
       "  <tbody>\n",
       "    <tr>\n",
       "      <th id=\"T_1b122_level0_row0\" class=\"row_heading level0 row0\" >0</th>\n",
       "      <td id=\"T_1b122_row0_col0\" class=\"data row0 col0\" >72.076000</td>\n",
       "      <td id=\"T_1b122_row0_col1\" class=\"data row0 col1\" >1</td>\n",
       "      <td id=\"T_1b122_row0_col2\" class=\"data row0 col2\" >1973</td>\n",
       "    </tr>\n",
       "    <tr>\n",
       "      <th id=\"T_1b122_level0_row1\" class=\"row_heading level0 row1\" >1</th>\n",
       "      <td id=\"T_1b122_row1_col0\" class=\"data row1 col0\" >64.442000</td>\n",
       "      <td id=\"T_1b122_row1_col1\" class=\"data row1 col1\" >2</td>\n",
       "      <td id=\"T_1b122_row1_col2\" class=\"data row1 col2\" >1973</td>\n",
       "    </tr>\n",
       "    <tr>\n",
       "      <th id=\"T_1b122_level0_row2\" class=\"row_heading level0 row2\" >2</th>\n",
       "      <td id=\"T_1b122_row2_col0\" class=\"data row2 col0\" >64.084000</td>\n",
       "      <td id=\"T_1b122_row2_col1\" class=\"data row2 col1\" >3</td>\n",
       "      <td id=\"T_1b122_row2_col2\" class=\"data row2 col2\" >1973</td>\n",
       "    </tr>\n",
       "    <tr>\n",
       "      <th id=\"T_1b122_level0_row3\" class=\"row_heading level0 row3\" >3</th>\n",
       "      <td id=\"T_1b122_row3_col0\" class=\"data row3 col0\" >60.842000</td>\n",
       "      <td id=\"T_1b122_row3_col1\" class=\"data row3 col1\" >4</td>\n",
       "      <td id=\"T_1b122_row3_col2\" class=\"data row3 col2\" >1973</td>\n",
       "    </tr>\n",
       "    <tr>\n",
       "      <th id=\"T_1b122_level0_row4\" class=\"row_heading level0 row4\" >4</th>\n",
       "      <td id=\"T_1b122_row4_col0\" class=\"data row4 col0\" >61.798000</td>\n",
       "      <td id=\"T_1b122_row4_col1\" class=\"data row4 col1\" >5</td>\n",
       "      <td id=\"T_1b122_row4_col2\" class=\"data row4 col2\" >1973</td>\n",
       "    </tr>\n",
       "  </tbody>\n",
       "</table>\n"
      ],
      "text/plain": [
       "<pandas.io.formats.style.Styler at 0x19301757310>"
      ]
     },
     "execution_count": 14,
     "metadata": {},
     "output_type": "execute_result"
    }
   ],
   "source": [
    "df.head().style.set_properties(**{\"background-color\": \"#FDD667\",\"color\":\"black\",\"border\": \"1.5px solid black\"})"
   ]
  },
  {
   "cell_type": "code",
   "execution_count": 15,
   "id": "03fddeb2",
   "metadata": {
    "papermill": {
     "duration": 0.028038,
     "end_time": "2022-11-18T15:20:01.932747",
     "exception": false,
     "start_time": "2022-11-18T15:20:01.904709",
     "status": "completed"
    },
    "tags": []
   },
   "outputs": [
    {
     "data": {
      "text/plain": [
       "Value    float64\n",
       "Month      int32\n",
       "Year       int32\n",
       "dtype: object"
      ]
     },
     "execution_count": 15,
     "metadata": {},
     "output_type": "execute_result"
    }
   ],
   "source": [
    "df.dtypes"
   ]
  },
  {
   "cell_type": "code",
   "execution_count": 16,
   "id": "615dc207",
   "metadata": {
    "papermill": {
     "duration": 0.028028,
     "end_time": "2022-11-18T15:20:01.975438",
     "exception": false,
     "start_time": "2022-11-18T15:20:01.947410",
     "status": "completed"
    },
    "tags": []
   },
   "outputs": [
    {
     "data": {
      "text/plain": [
       "Value    0\n",
       "Month    0\n",
       "Year     0\n",
       "dtype: int64"
      ]
     },
     "execution_count": 16,
     "metadata": {},
     "output_type": "execute_result"
    }
   ],
   "source": [
    "df.isnull().sum()"
   ]
  },
  {
   "cell_type": "code",
   "execution_count": 17,
   "id": "1a478fbc",
   "metadata": {
    "papermill": {
     "duration": 0.027966,
     "end_time": "2022-11-18T15:20:02.018234",
     "exception": false,
     "start_time": "2022-11-18T15:20:01.990268",
     "status": "completed"
    },
    "tags": []
   },
   "outputs": [
    {
     "data": {
      "text/plain": [
       "(523, 3)"
      ]
     },
     "execution_count": 17,
     "metadata": {},
     "output_type": "execute_result"
    }
   ],
   "source": [
    "df.shape"
   ]
  },
  {
   "cell_type": "code",
   "execution_count": 18,
   "id": "8d3a0a5b",
   "metadata": {
    "papermill": {
     "duration": 0.025311,
     "end_time": "2022-11-18T15:20:02.088114",
     "exception": false,
     "start_time": "2022-11-18T15:20:02.062803",
     "status": "completed"
    },
    "tags": []
   },
   "outputs": [],
   "source": [
    "X = df.drop(columns=['Value']).values\n",
    "y = df['Value'].values"
   ]
  },
  {
   "cell_type": "code",
   "execution_count": 19,
   "id": "83944a53",
   "metadata": {
    "papermill": {
     "duration": 0.025454,
     "end_time": "2022-11-18T15:20:02.128117",
     "exception": false,
     "start_time": "2022-11-18T15:20:02.102663",
     "status": "completed"
    },
    "tags": []
   },
   "outputs": [
    {
     "data": {
      "text/plain": [
       "array([[   1, 1973],\n",
       "       [   2, 1973],\n",
       "       [   3, 1973],\n",
       "       ...,\n",
       "       [   5, 2016],\n",
       "       [   6, 2016],\n",
       "       [   7, 2016]])"
      ]
     },
     "execution_count": 19,
     "metadata": {},
     "output_type": "execute_result"
    }
   ],
   "source": [
    "X"
   ]
  },
  {
   "cell_type": "code",
   "execution_count": 20,
   "id": "36b0e1df",
   "metadata": {
    "papermill": {
     "duration": 0.030803,
     "end_time": "2022-11-18T15:20:02.173714",
     "exception": false,
     "start_time": "2022-11-18T15:20:02.142911",
     "status": "completed"
    },
    "scrolled": true,
    "tags": []
   },
   "outputs": [
    {
     "data": {
      "text/plain": [
       "array([ 72.076,  64.442,  64.084,  60.842,  61.798,  66.538,  72.626,\n",
       "        75.181,  68.397,  67.668,  67.021,  71.118,  70.55 ,  62.929,\n",
       "        64.519,  60.544,  64.687,  64.736,  73.698,  72.559,  63.221,\n",
       "        65.418,  65.593,  71.677,  72.708,  65.117,  66.532,  61.975,\n",
       "        62.031,  67.875,  74.184,  77.029,  66.156,  66.651,  67.625,\n",
       "        75.857,  81.264,  71.058,  73.361,  68.703,  68.985,  73.936,\n",
       "        80.968,  81.962,  72.95 ,  74.746,  78.924,  84.49 ,  87.215,\n",
       "        75.943,  75.092,  68.641,  74.916,  80.942,  90.667,  89.046,\n",
       "        80.975,  77.369,  78.058,  83.279,  85.191,  71.476,  67.829,\n",
       "        69.051,  74.201,  81.372,  88.003,  91.836,  85.066,  79.494,\n",
       "        79.291,  87.107,  93.946,  83.91 ,  83.689,  78.077,  83.19 ,\n",
       "        88.15 ,  96.579,  97.246,  84.463,  86.071,  86.09 ,  94.293,\n",
       "       100.568,  94.862,  93.21 ,  81.245,  82.785,  91.484, 107.126,\n",
       "       106.245,  95.662,  90.03 ,  91.239, 102.138, 108.164,  94.766,\n",
       "        95.724,  86.386,  89.002,  99.05 , 111.044, 107.758,  95.891,\n",
       "        94.541,  92.986, 105.056, 113.136,  97.313,  95.335,  86.587,\n",
       "        90.83 ,  94.419, 109.995, 109.179,  96.39 ,  92.24 ,  95.165,\n",
       "       101.367, 105.965,  90.912,  93.568,  86.575,  90.75 ,  99.98 ,\n",
       "       119.945, 126.652, 107.675, 100.677, 101.663, 117.417, 119.436,\n",
       "       103.635, 108.149,  94.329,  98.181, 112.983, 119.701, 125.724,\n",
       "       107.179, 108.583, 107.546, 112.167, 125.429, 109.359, 107.966,\n",
       "       100.317, 107.595, 113.584, 126.626, 124.309, 111.9  , 108.331,\n",
       "       107.034, 124.95 , 126.887, 109.086, 106.803,  95.341, 101.892,\n",
       "       116.698, 134.789, 122.28 , 112.03 , 107.235, 107.317, 117.127,\n",
       "       124.043, 106.754, 108.607, 102.222, 112.257, 126.2  , 140.582,\n",
       "       139.268, 117.773, 113.515, 111.217, 124.314, 133.468, 120.783,\n",
       "       115.584, 106.49 , 111.2  , 128.537, 141.139, 148.031, 121.057,\n",
       "       117.165, 116.659, 131.695, 132.233, 124.345, 122.803, 111.194,\n",
       "       115.915, 126.031, 138.083, 139.614, 124.594, 119.943, 120.824,\n",
       "       143.264, 132.923, 116.26 , 121.806, 115.909, 118.556, 130.719,\n",
       "       143.146, 146.257, 134.042, 128.8  , 122.119, 137.027, 143.148,\n",
       "       117.505, 118.823, 111.147, 122.745, 131.945, 144.042, 144.107,\n",
       "       129.099, 124.058, 127.928, 133.633, 137.39 , 121.125, 126.201,\n",
       "       118.33 , 121.946, 129.054, 148.563, 142.166, 132.766, 126.405,\n",
       "       126.014, 139.605, 139.269, 128.056, 134.599, 119.596, 120.469,\n",
       "       136.697, 157.967, 156.392, 133.435, 130.321, 131.799, 143.919,\n",
       "       153.119, 131.25 , 132.54 , 120.392, 126.496, 146.639, 153.375,\n",
       "       151.757, 133.235, 129.229, 124.074, 136.675, 143.097, 127.774,\n",
       "       127.348, 118.414, 125.516, 138.913, 159.638, 167.717, 137.474,\n",
       "       132.871, 134.591, 147.39 , 153.915, 138.446, 138.362, 124.885,\n",
       "       135.014, 147.23 , 160.939, 162.998, 144.095, 143.399, 147.318,\n",
       "       155.809, 162.245, 135.873, 138.495, 130.325, 136.525, 147.624,\n",
       "       169.108, 164.925, 152.353, 152.153, 146.425, 160.993, 159.602,\n",
       "       138.682, 144.143, 133.418, 146.249, 158.591, 174.995, 174.745,\n",
       "       156.709, 147.334, 139.397, 154.318, 161.387, 138.081, 145.169,\n",
       "       137.504, 144.891, 157.377, 179.42 , 173.707, 154.874, 147.523,\n",
       "       142.095, 154.387, 172.903, 155.75 , 152.347, 137.295, 151.232,\n",
       "       165.771, 172.816, 179.476, 158.627, 156.631, 155.015, 169.514,\n",
       "       171.379, 146.187, 151.068, 136.46 , 148.784, 159.457, 176.898,\n",
       "       180.673, 153.202, 146.64 , 142.367, 156.713, 159.356, 139.482,\n",
       "       146.594, 138.353, 147.956, 161.561, 179.351, 177.391, 162.681,\n",
       "       156.051, 153.318, 167.785, 175.518, 152.63 , 150.919, 138.322,\n",
       "       147.491, 160.056, 178.656, 181.673, 161.942, 155.337, 156.001,\n",
       "       172.427, 175.35 , 157.548, 149.42 , 138.155, 153.824, 164.022,\n",
       "       178.541, 175.913, 163.182, 155.596, 156.598, 174.92 , 175.514,\n",
       "       153.555, 159.857, 140.548, 151.645, 171.133, 184.087, 186.022,\n",
       "       169.222, 160.682, 155.899, 175.664, 166.165, 154.226, 156.997,\n",
       "       138.082, 153.221, 166.169, 184.807, 186.844, 160.475, 159.328,\n",
       "       156.604, 170.779, 174.337, 159.772, 155.545, 144.038, 154.284,\n",
       "       170.559, 183.582, 188.407, 167.18 , 159.36 , 156.666, 173.557,\n",
       "       177.865, 163.114, 156.693, 144.524, 152.626, 168.239, 184.592,\n",
       "       179.993, 160.76 , 150.605, 152.302, 168.073, 169.01 , 138.457,\n",
       "       134.157, 125.161, 131.317, 147.22 , 157.083, 161.543, 137.175,\n",
       "       138.952, 136.236, 164.564, 169.541, 149.732, 142.659, 125.288,\n",
       "       141.697, 163.128, 177.165, 176.655, 148.406, 132.129, 135.919,\n",
       "       165.3  , 166.309, 135.738, 133.862, 123.65 , 135.488, 155.016,\n",
       "       173.728, 169.987, 141.456, 128.32 , 123.628, 135.527, 129.542,\n",
       "       115.247, 105.084,  94.674, 114.96 , 131.167, 158.331, 151.36 ,\n",
       "       127.184, 121.741, 127.974, 133.974, 137.055, 122.562, 128.606,\n",
       "       110.959, 118.029, 137.026, 151.952, 149.701, 132.785, 121.075,\n",
       "       120.445, 141.155, 153.85 , 140.102, 132.664, 106.751, 117.672,\n",
       "       136.577, 149.776, 148.995, 126.983, 112.3  , 118.837, 124.629,\n",
       "       130.232, 122.417, 106.412,  88.646, 104.498, 126.28 , 140.283,\n",
       "       135.156, 118.653,  98.469,  90.263,  91.658, 113.495,  92.416,\n",
       "        72.84 ,  71.41 ,  82.51 , 115.772, 135.958])"
      ]
     },
     "execution_count": 20,
     "metadata": {},
     "output_type": "execute_result"
    }
   ],
   "source": [
    "y"
   ]
  },
  {
   "cell_type": "code",
   "execution_count": 21,
   "id": "15b3975a",
   "metadata": {
    "papermill": {
     "duration": 0.046548,
     "end_time": "2022-11-18T15:20:02.235631",
     "exception": false,
     "start_time": "2022-11-18T15:20:02.189083",
     "status": "completed"
    },
    "tags": []
   },
   "outputs": [
    {
     "data": {
      "text/plain": [
       "<xgboost.core.DMatrix at 0x19301754c10>"
      ]
     },
     "execution_count": 21,
     "metadata": {},
     "output_type": "execute_result"
    }
   ],
   "source": [
    "data_dmatrix = xgb.DMatrix(X,label=y)\n",
    "data_dmatrix"
   ]
  },
  {
   "cell_type": "code",
   "execution_count": 22,
   "id": "ebdd1a83",
   "metadata": {
    "papermill": {
     "duration": 0.026739,
     "end_time": "2022-11-18T15:20:02.308930",
     "exception": false,
     "start_time": "2022-11-18T15:20:02.282191",
     "status": "completed"
    },
    "tags": []
   },
   "outputs": [],
   "source": [
    "X_train, X_test, y_train, y_test = train_test_split(X, y, test_size=0.2, random_state=5)"
   ]
  },
  {
   "cell_type": "code",
   "execution_count": 23,
   "id": "65d4fb47-011d-4e8f-9129-55e7f98efbb9",
   "metadata": {},
   "outputs": [
    {
     "data": {
      "text/plain": [
       "((418, 2), (105, 2))"
      ]
     },
     "execution_count": 23,
     "metadata": {},
     "output_type": "execute_result"
    }
   ],
   "source": [
    "X_train.shape, X_test.shape"
   ]
  },
  {
   "cell_type": "code",
   "execution_count": 24,
   "id": "bf1b041a-feb0-4142-aa97-9886260547e3",
   "metadata": {},
   "outputs": [
    {
     "data": {
      "text/plain": [
       "((418,), (105,))"
      ]
     },
     "execution_count": 24,
     "metadata": {},
     "output_type": "execute_result"
    }
   ],
   "source": [
    "y_train.shape, y_test.shape"
   ]
  },
  {
   "cell_type": "code",
   "execution_count": 25,
   "id": "df408d64",
   "metadata": {
    "papermill": {
     "duration": 0.025132,
     "end_time": "2022-11-18T15:20:02.421515",
     "exception": false,
     "start_time": "2022-11-18T15:20:02.396383",
     "status": "completed"
    },
    "tags": []
   },
   "outputs": [],
   "source": [
    "sc = StandardScaler()\n",
    "X_train = sc.fit_transform(X_train)\n",
    "X_test = sc.transform(X_test)"
   ]
  },
  {
   "cell_type": "code",
   "execution_count": 26,
   "id": "6e110f06",
   "metadata": {
    "papermill": {
     "duration": 4.53206,
     "end_time": "2022-11-18T15:20:06.998354",
     "exception": false,
     "start_time": "2022-11-18T15:20:02.466294",
     "status": "completed"
    },
    "tags": []
   },
   "outputs": [],
   "source": [
    "reg_mod = xgb.XGBRegressor(n_estimators=1000,learning_rate=0.08,subsample=0.75,colsample_bytree=1, max_depth=7,gamma=0)"
   ]
  },
  {
   "cell_type": "code",
   "execution_count": 27,
   "id": "90a97cd2-20c9-4d79-b64d-62ff27c68564",
   "metadata": {},
   "outputs": [
    {
     "name": "stdout",
     "output_type": "stream",
     "text": [
      "Mean cross-validation score: 0.97\n"
     ]
    }
   ],
   "source": [
    "scores = cross_val_score(reg_mod, X_train, y_train,cv=10)\n",
    "print(\"Mean cross-validation score: %.2f\" % scores.mean())"
   ]
  },
  {
   "cell_type": "code",
   "execution_count": 28,
   "id": "4a8eccd1",
   "metadata": {
    "papermill": {
     "duration": 5.502206,
     "end_time": "2022-11-18T15:20:58.701839",
     "exception": false,
     "start_time": "2022-11-18T15:20:53.199633",
     "status": "completed"
    },
    "tags": []
   },
   "outputs": [
    {
     "data": {
      "text/html": [
       "<style>#sk-container-id-1 {color: black;}#sk-container-id-1 pre{padding: 0;}#sk-container-id-1 div.sk-toggleable {background-color: white;}#sk-container-id-1 label.sk-toggleable__label {cursor: pointer;display: block;width: 100%;margin-bottom: 0;padding: 0.3em;box-sizing: border-box;text-align: center;}#sk-container-id-1 label.sk-toggleable__label-arrow:before {content: \"▸\";float: left;margin-right: 0.25em;color: #696969;}#sk-container-id-1 label.sk-toggleable__label-arrow:hover:before {color: black;}#sk-container-id-1 div.sk-estimator:hover label.sk-toggleable__label-arrow:before {color: black;}#sk-container-id-1 div.sk-toggleable__content {max-height: 0;max-width: 0;overflow: hidden;text-align: left;background-color: #f0f8ff;}#sk-container-id-1 div.sk-toggleable__content pre {margin: 0.2em;color: black;border-radius: 0.25em;background-color: #f0f8ff;}#sk-container-id-1 input.sk-toggleable__control:checked~div.sk-toggleable__content {max-height: 200px;max-width: 100%;overflow: auto;}#sk-container-id-1 input.sk-toggleable__control:checked~label.sk-toggleable__label-arrow:before {content: \"▾\";}#sk-container-id-1 div.sk-estimator input.sk-toggleable__control:checked~label.sk-toggleable__label {background-color: #d4ebff;}#sk-container-id-1 div.sk-label input.sk-toggleable__control:checked~label.sk-toggleable__label {background-color: #d4ebff;}#sk-container-id-1 input.sk-hidden--visually {border: 0;clip: rect(1px 1px 1px 1px);clip: rect(1px, 1px, 1px, 1px);height: 1px;margin: -1px;overflow: hidden;padding: 0;position: absolute;width: 1px;}#sk-container-id-1 div.sk-estimator {font-family: monospace;background-color: #f0f8ff;border: 1px dotted black;border-radius: 0.25em;box-sizing: border-box;margin-bottom: 0.5em;}#sk-container-id-1 div.sk-estimator:hover {background-color: #d4ebff;}#sk-container-id-1 div.sk-parallel-item::after {content: \"\";width: 100%;border-bottom: 1px solid gray;flex-grow: 1;}#sk-container-id-1 div.sk-label:hover label.sk-toggleable__label {background-color: #d4ebff;}#sk-container-id-1 div.sk-serial::before {content: \"\";position: absolute;border-left: 1px solid gray;box-sizing: border-box;top: 0;bottom: 0;left: 50%;z-index: 0;}#sk-container-id-1 div.sk-serial {display: flex;flex-direction: column;align-items: center;background-color: white;padding-right: 0.2em;padding-left: 0.2em;position: relative;}#sk-container-id-1 div.sk-item {position: relative;z-index: 1;}#sk-container-id-1 div.sk-parallel {display: flex;align-items: stretch;justify-content: center;background-color: white;position: relative;}#sk-container-id-1 div.sk-item::before, #sk-container-id-1 div.sk-parallel-item::before {content: \"\";position: absolute;border-left: 1px solid gray;box-sizing: border-box;top: 0;bottom: 0;left: 50%;z-index: -1;}#sk-container-id-1 div.sk-parallel-item {display: flex;flex-direction: column;z-index: 1;position: relative;background-color: white;}#sk-container-id-1 div.sk-parallel-item:first-child::after {align-self: flex-end;width: 50%;}#sk-container-id-1 div.sk-parallel-item:last-child::after {align-self: flex-start;width: 50%;}#sk-container-id-1 div.sk-parallel-item:only-child::after {width: 0;}#sk-container-id-1 div.sk-dashed-wrapped {border: 1px dashed gray;margin: 0 0.4em 0.5em 0.4em;box-sizing: border-box;padding-bottom: 0.4em;background-color: white;}#sk-container-id-1 div.sk-label label {font-family: monospace;font-weight: bold;display: inline-block;line-height: 1.2em;}#sk-container-id-1 div.sk-label-container {text-align: center;}#sk-container-id-1 div.sk-container {/* jupyter's `normalize.less` sets `[hidden] { display: none; }` but bootstrap.min.css set `[hidden] { display: none !important; }` so we also need the `!important` here to be able to override the default hidden behavior on the sphinx rendered scikit-learn.org. See: https://github.com/scikit-learn/scikit-learn/issues/21755 */display: inline-block !important;position: relative;}#sk-container-id-1 div.sk-text-repr-fallback {display: none;}</style><div id=\"sk-container-id-1\" class=\"sk-top-container\"><div class=\"sk-text-repr-fallback\"><pre>XGBRegressor(base_score=None, booster=None, callbacks=None,\n",
       "             colsample_bylevel=None, colsample_bynode=None, colsample_bytree=1,\n",
       "             device=None, early_stopping_rounds=None, enable_categorical=False,\n",
       "             eval_metric=None, feature_types=None, gamma=0, grow_policy=None,\n",
       "             importance_type=None, interaction_constraints=None,\n",
       "             learning_rate=0.08, max_bin=None, max_cat_threshold=None,\n",
       "             max_cat_to_onehot=None, max_delta_step=None, max_depth=7,\n",
       "             max_leaves=None, min_child_weight=None, missing=nan,\n",
       "             monotone_constraints=None, multi_strategy=None, n_estimators=1000,\n",
       "             n_jobs=None, num_parallel_tree=None, random_state=None, ...)</pre><b>In a Jupyter environment, please rerun this cell to show the HTML representation or trust the notebook. <br />On GitHub, the HTML representation is unable to render, please try loading this page with nbviewer.org.</b></div><div class=\"sk-container\" hidden><div class=\"sk-item\"><div class=\"sk-estimator sk-toggleable\"><input class=\"sk-toggleable__control sk-hidden--visually\" id=\"sk-estimator-id-1\" type=\"checkbox\" checked><label for=\"sk-estimator-id-1\" class=\"sk-toggleable__label sk-toggleable__label-arrow\">XGBRegressor</label><div class=\"sk-toggleable__content\"><pre>XGBRegressor(base_score=None, booster=None, callbacks=None,\n",
       "             colsample_bylevel=None, colsample_bynode=None, colsample_bytree=1,\n",
       "             device=None, early_stopping_rounds=None, enable_categorical=False,\n",
       "             eval_metric=None, feature_types=None, gamma=0, grow_policy=None,\n",
       "             importance_type=None, interaction_constraints=None,\n",
       "             learning_rate=0.08, max_bin=None, max_cat_threshold=None,\n",
       "             max_cat_to_onehot=None, max_delta_step=None, max_depth=7,\n",
       "             max_leaves=None, min_child_weight=None, missing=nan,\n",
       "             monotone_constraints=None, multi_strategy=None, n_estimators=1000,\n",
       "             n_jobs=None, num_parallel_tree=None, random_state=None, ...)</pre></div></div></div></div></div>"
      ],
      "text/plain": [
       "XGBRegressor(base_score=None, booster=None, callbacks=None,\n",
       "             colsample_bylevel=None, colsample_bynode=None, colsample_bytree=1,\n",
       "             device=None, early_stopping_rounds=None, enable_categorical=False,\n",
       "             eval_metric=None, feature_types=None, gamma=0, grow_policy=None,\n",
       "             importance_type=None, interaction_constraints=None,\n",
       "             learning_rate=0.08, max_bin=None, max_cat_threshold=None,\n",
       "             max_cat_to_onehot=None, max_delta_step=None, max_depth=7,\n",
       "             max_leaves=None, min_child_weight=None, missing=nan,\n",
       "             monotone_constraints=None, multi_strategy=None, n_estimators=1000,\n",
       "             n_jobs=None, num_parallel_tree=None, random_state=None, ...)"
      ]
     },
     "execution_count": 28,
     "metadata": {},
     "output_type": "execute_result"
    }
   ],
   "source": [
    "reg_mod.fit(X_train,y_train)"
   ]
  },
  {
   "cell_type": "code",
   "execution_count": 29,
   "id": "179bed9b",
   "metadata": {
    "papermill": {
     "duration": 0.042263,
     "end_time": "2022-11-18T15:20:58.794539",
     "exception": false,
     "start_time": "2022-11-18T15:20:58.752276",
     "status": "completed"
    },
    "tags": []
   },
   "outputs": [],
   "source": [
    "y_pred_test = reg_mod.predict(X_test)\n",
    "y_pred_train = reg_mod.predict(X_train)"
   ]
  },
  {
   "cell_type": "code",
   "execution_count": 30,
   "id": "46daf66d",
   "metadata": {
    "papermill": {
     "duration": 0.027642,
     "end_time": "2022-11-18T15:20:58.871363",
     "exception": false,
     "start_time": "2022-11-18T15:20:58.843721",
     "status": "completed"
    },
    "scrolled": true,
    "tags": []
   },
   "outputs": [
    {
     "name": "stdout",
     "output_type": "stream",
     "text": [
      "R^2: 0.9999999097462426\n",
      "R^2: 0.9783388381008071\n"
     ]
    }
   ],
   "source": [
    "print('R^2:', metrics.r2_score(y_train, y_pred_train))\n",
    "print('R^2:', metrics.r2_score(y_test, y_pred_test))"
   ]
  },
  {
   "cell_type": "code",
   "execution_count": 31,
   "id": "6f0627b3",
   "metadata": {
    "papermill": {
     "duration": 0.028656,
     "end_time": "2022-11-18T15:20:58.948350",
     "exception": false,
     "start_time": "2022-11-18T15:20:58.919694",
     "status": "completed"
    },
    "tags": []
   },
   "outputs": [
    {
     "name": "stdout",
     "output_type": "stream",
     "text": [
      "MAE: 0.007675412848805409\n",
      "MAE: 3.5418548514229906\n"
     ]
    }
   ],
   "source": [
    "print('MAE:', metrics.mean_absolute_error(y_train, y_pred_train))\n",
    "print('MAE:', metrics.mean_absolute_error(y_test, y_pred_test))"
   ]
  },
  {
   "cell_type": "code",
   "execution_count": 32,
   "id": "9dfb2389",
   "metadata": {
    "papermill": {
     "duration": 0.026659,
     "end_time": "2022-11-18T15:20:59.022132",
     "exception": false,
     "start_time": "2022-11-18T15:20:58.995473",
     "status": "completed"
    },
    "tags": []
   },
   "outputs": [
    {
     "name": "stdout",
     "output_type": "stream",
     "text": [
      "MSE: 9.348672647706125e-05\n",
      "MSE: 20.018482778405694\n"
     ]
    }
   ],
   "source": [
    "print('MSE:', metrics.mean_squared_error(y_train, y_pred_train))\n",
    "print('MSE:', metrics.mean_squared_error(y_test, y_pred_test))"
   ]
  },
  {
   "cell_type": "code",
   "execution_count": 33,
   "id": "7f2dd080",
   "metadata": {
    "papermill": {
     "duration": 0.029281,
     "end_time": "2022-11-18T15:20:59.097372",
     "exception": false,
     "start_time": "2022-11-18T15:20:59.068091",
     "status": "completed"
    },
    "tags": []
   },
   "outputs": [
    {
     "name": "stdout",
     "output_type": "stream",
     "text": [
      "RMSE: 0.009668853421014369\n",
      "RMSE: 4.474201915247645\n"
     ]
    }
   ],
   "source": [
    "print('RMSE:', np.sqrt(metrics.mean_squared_error(y_train, y_pred_train)))\n",
    "print('RMSE:', np.sqrt(metrics.mean_squared_error(y_test, y_pred_test)))"
   ]
  },
  {
   "cell_type": "code",
   "execution_count": 34,
   "id": "7f8dc3cc-717d-431a-91fc-98c84bfb0ec9",
   "metadata": {},
   "outputs": [
    {
     "data": {
      "text/plain": [
       "array([159.36 , 160.056, 138.083, 122.28 , 131.945, 117.773, 157.548,\n",
       "       147.39 , 146.249, 115.772, 128.056, 142.095,  68.641, 163.114,\n",
       "       161.942, 138.913,  78.077, 107.179, 162.245, 156.001, 131.695,\n",
       "       108.607, 107.126, 134.789, 118.556, 147.318,  80.975, 148.784,\n",
       "       111.194, 117.417, 138.322, 159.772, 166.165, 124.309, 126.887,\n",
       "       147.523,  68.985, 127.928, 108.149, 139.482,  86.575, 138.353,\n",
       "        87.107, 126.201, 160.475, 110.959, 105.084, 135.014, 160.939,\n",
       "        75.092, 138.081, 177.391, 174.745, 179.476, 125.724,  75.181,\n",
       "       144.891, 137.055, 138.457, 136.236, 180.673, 108.331, 105.056,\n",
       "       109.086, 152.302, 179.42 , 140.283, 157.377, 120.445,  86.587,\n",
       "        67.625, 108.583, 132.871, 124.074, 184.807, 141.139,  62.031,\n",
       "        81.962, 120.469, 162.998, 179.993, 175.518, 136.577, 126.652,\n",
       "        75.943, 119.436,  88.646, 123.65 , 170.779, 137.474, 113.584,\n",
       "       147.23 ,  80.942, 139.614, 174.92 , 118.823, 119.943, 100.568,\n",
       "       138.155,  95.724,  88.003, 167.785, 111.147, 167.18 ,  84.49 ])"
      ]
     },
     "execution_count": 34,
     "metadata": {},
     "output_type": "execute_result"
    }
   ],
   "source": [
    "y_test"
   ]
  },
  {
   "cell_type": "code",
   "execution_count": 35,
   "id": "f1328308-f6f2-4350-9f97-10d1046d1318",
   "metadata": {},
   "outputs": [
    {
     "data": {
      "text/plain": [
       "array([158.78001 , 161.91385 , 140.96031 , 117.888374, 129.86215 ,\n",
       "       118.706726, 150.74023 , 147.1517  , 141.58609 , 120.38886 ,\n",
       "       129.71765 , 143.73254 ,  70.8386  , 158.91216 , 162.83224 ,\n",
       "       142.99973 ,  78.99813 , 110.828896, 152.86679 , 155.69891 ,\n",
       "       136.33472 , 108.338295, 105.90665 , 126.080215, 120.52467 ,\n",
       "       140.12263 ,  79.9686  , 147.44522 , 114.40619 , 105.676926,\n",
       "       137.2086  , 154.94485 , 174.34976 , 117.62489 , 123.80151 ,\n",
       "       149.22385 ,  71.09461 , 120.51818 , 103.06638 , 144.64526 ,\n",
       "        88.277275, 136.43245 ,  84.61055 , 125.15144 , 167.35144 ,\n",
       "       106.72964 , 117.57828 , 130.51884 , 163.98296 ,  71.948364,\n",
       "       144.3029  , 180.79617 , 174.87894 , 175.52295 , 115.48788 ,\n",
       "        73.65736 , 145.622   , 141.50986 , 140.44441 , 139.33318 ,\n",
       "       173.837   , 107.11383 , 101.16542 , 105.24379 , 150.25534 ,\n",
       "       173.39314 , 138.99118 , 161.3044  , 129.09093 ,  88.10381 ,\n",
       "        69.57427 , 106.41087 , 136.70041 , 127.477295, 182.73299 ,\n",
       "       144.84242 ,  66.61482 ,  82.72911 , 123.62645 , 161.12744 ,\n",
       "       184.02304 , 175.1362  , 136.4506  , 117.613625,  73.67494 ,\n",
       "       119.71652 ,  99.749146, 119.13073 , 173.82979 , 140.29153 ,\n",
       "       120.445465, 145.42783 ,  81.08882 , 143.69315 , 173.74377 ,\n",
       "       123.47756 , 122.2124  , 107.091324, 138.81808 ,  93.97911 ,\n",
       "        91.83051 , 170.17592 , 118.228355, 166.6732  ,  82.5219  ],\n",
       "      dtype=float32)"
      ]
     },
     "execution_count": 35,
     "metadata": {},
     "output_type": "execute_result"
    }
   ],
   "source": [
    "y_pred_test"
   ]
  },
  {
   "cell_type": "code",
   "execution_count": 36,
   "id": "8740a9fd",
   "metadata": {
    "papermill": {
     "duration": 1.251239,
     "end_time": "2022-11-18T15:21:00.426663",
     "exception": false,
     "start_time": "2022-11-18T15:20:59.175424",
     "status": "completed"
    },
    "tags": []
   },
   "outputs": [
    {
     "data": {
      "text/plain": [
       "<Axes: xlabel='Year', ylabel='Value'>"
      ]
     },
     "execution_count": 36,
     "metadata": {},
     "output_type": "execute_result"
    },
    {
     "data": {
      "image/png": "[encoded data removed]",
      "text/plain": [
       "<Figure size 800x400 with 1 Axes>"
      ]
     },
     "metadata": {},
     "output_type": "display_data"
    }
   ],
   "source": [
    "plt.figure(figsize=(10, 5), dpi=80)\n",
    "sns.lineplot(x='Year', y='Value', data=df)"
   ]
  },
  {
   "cell_type": "code",
   "execution_count": 37,
   "id": "55342272",
   "metadata": {
    "papermill": {
     "duration": 0.286323,
     "end_time": "2022-11-18T15:21:00.731553",
     "exception": false,
     "start_time": "2022-11-18T15:21:00.445230",
     "status": "completed"
    },
    "tags": []
   },
   "outputs": [
    {
     "data": {
      "image/png": "[encoded data removed]",
      "text/plain": [
       "<Figure size 800x400 with 1 Axes>"
      ]
     },
     "metadata": {},
     "output_type": "display_data"
    }
   ],
   "source": [
    "plt.figure(figsize=(10, 5), dpi=80)\n",
    "x_ax = range(len(y_test))\n",
    "plt.plot(x_ax, y_test, label=\"test\")\n",
    "plt.plot(x_ax, y_pred_test, label=\"predicted\")\n",
    "plt.title(\"Test and Predicted data\")\n",
    "plt.legend()\n",
    "plt.show()"
   ]
  },
  {
   "cell_type": "code",
   "execution_count": 38,
   "id": "acb556d9",
   "metadata": {
    "papermill": {
     "duration": 0.348258,
     "end_time": "2022-11-18T15:21:01.099347",
     "exception": false,
     "start_time": "2022-11-18T15:21:00.751089",
     "status": "completed"
    },
    "tags": []
   },
   "outputs": [
    {
     "data": {
      "image/png": "[encoded data removed]",
      "text/plain": [
       "<Figure size 800x400 with 1 Axes>"
      ]
     },
     "metadata": {},
     "output_type": "display_data"
    }
   ],
   "source": [
    "plt.figure(figsize=(10, 5), dpi=80)\n",
    "df=pd.DataFrame(y_pred_test, columns=['pred']) \n",
    "df['date'] = pd.date_range(start='8/1/2016', periods=len(df), freq='M')\n",
    "sns.lineplot(x='date', y='pred', data=df)\n",
    "plt.title(\"Carbon Dioxide Emissions - Forecast\")\n",
    "plt.show()"
   ]
  }
 ],
 "metadata": {
  "kernelspec": {
   "display_name": "Python 3 (ipykernel)",
   "language": "python",
   "name": "python3"
  },
  "language_info": {
   "codemirror_mode": {
    "name": "ipython",
    "version": 3
   },
   "file_extension": ".py",
   "mimetype": "text/x-python",
   "name": "python",
   "nbconvert_exporter": "python",
   "pygments_lexer": "ipython3",
   "version": "3.11.9"
  },
  "papermill": {
   "default_parameters": {},
   "duration": 85.546871,
   "end_time": "2022-11-18T15:21:02.082049",
   "environment_variables": {},
   "exception": null,
   "input_path": "__notebook__.ipynb",
   "output_path": "__notebook__.ipynb",
   "parameters": {},
   "start_time": "2022-11-18T15:19:36.535178",
   "version": "2.3.4"
  }
 },
 "nbformat": 4,
 "nbformat_minor": 5
}
